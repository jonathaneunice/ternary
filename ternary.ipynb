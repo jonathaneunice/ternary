{
 "metadata": {
  "name": "",
  "signature": "sha256:abdda06ea05fb461ed94ba88816ef0e0a5b77aab75ea213c33d788d42d1dc93d"
 },
 "nbformat": 3,
 "nbformat_minor": 0,
 "worksheets": [
  {
   "cells": [
    {
     "cell_type": "code",
     "collapsed": false,
     "input": [
      "is_ajax = True\n",
      "is_ajax2 = False\n",
      "d1 = \"This\"\n",
      "d2 = \"That\""
     ],
     "language": "python",
     "metadata": {},
     "outputs": [],
     "prompt_number": 2
    },
    {
     "cell_type": "code",
     "collapsed": false,
     "input": [
      "%timeit d1 if is_ajax else d2"
     ],
     "language": "python",
     "metadata": {},
     "outputs": [
      {
       "output_type": "stream",
       "stream": "stdout",
       "text": [
        "10000000 loops, best of 3: 54.5 ns per loop\n"
       ]
      }
     ],
     "prompt_number": 3
    },
    {
     "cell_type": "code",
     "collapsed": false,
     "input": [
      "%timeit d1 if is_ajax2 else d2"
     ],
     "language": "python",
     "metadata": {},
     "outputs": [
      {
       "output_type": "stream",
       "stream": "stdout",
       "text": [
        "10000000 loops, best of 3: 50.7 ns per loop\n"
       ]
      }
     ],
     "prompt_number": 4
    },
    {
     "cell_type": "code",
     "collapsed": false,
     "input": [
      "class If(object):\n",
      "    \"\"\"\n",
      "    If object allows for better ternaries in Python by overloading operators.\n",
      "\n",
      "    >>> If(True) // 'a' | 'b'\n",
      "    'a'\n",
      "    >>> If(False) // 'a' | 'b'\n",
      "    'b'\n",
      "    >>> If('a') // \"Hooray!\" | 3\n",
      "    \"Hooray!\"\n",
      "    >>> If(False) // 'a' | If(True) // 'b' | 'c'\n",
      "    'b'\n",
      "    \"\"\"\n",
      "\n",
      "    def __init__(self, cond):\n",
      "        self.cond = cond\n",
      "\n",
      "    def __inv__(self):\n",
      "        self.cond = not self.cond\n",
      "        return self\n",
      "    __invert__ = __inv__\n",
      "\n",
      "    def __floordiv__(self, if_true):\n",
      "        return self.IntermediateIf(self, if_true)\n",
      "\n",
      "    class IntermediateIf(object):\n",
      "\n",
      "        def __init__(self, if_, if_true):\n",
      "            self.if_ = if_\n",
      "            self.if_true = if_true\n",
      "\n",
      "        def __or__(self, if_false):\n",
      "            if self.if_.cond:\n",
      "                return self.if_true\n",
      "            else:\n",
      "                return if_false"
     ],
     "language": "python",
     "metadata": {},
     "outputs": [],
     "prompt_number": 5
    },
    {
     "cell_type": "code",
     "collapsed": false,
     "input": [
      "%timeit If(is_ajax) // d1 | d2"
     ],
     "language": "python",
     "metadata": {},
     "outputs": [
      {
       "output_type": "stream",
       "stream": "stdout",
       "text": [
        "100000 loops, best of 3: 1.65 \u00b5s per loop\n"
       ]
      }
     ],
     "prompt_number": 8
    },
    {
     "cell_type": "code",
     "collapsed": false,
     "input": [
      "%timeit If(is_ajax2) // d1 | d2"
     ],
     "language": "python",
     "metadata": {},
     "outputs": [
      {
       "output_type": "stream",
       "stream": "stdout",
       "text": [
        "1000000 loops, best of 3: 1.65 \u00b5s per loop\n"
       ]
      }
     ],
     "prompt_number": 9
    },
    {
     "cell_type": "code",
     "collapsed": false,
     "input": [
      "1650 / ((54.5 + 50.7)/2)"
     ],
     "language": "python",
     "metadata": {},
     "outputs": [
      {
       "metadata": {},
       "output_type": "pyout",
       "prompt_number": 10,
       "text": [
        "31.368821292775664"
       ]
      }
     ],
     "prompt_number": 10
    },
    {
     "cell_type": "code",
     "collapsed": false,
     "input": [],
     "language": "python",
     "metadata": {},
     "outputs": []
    }
   ],
   "metadata": {}
  }
 ]
}